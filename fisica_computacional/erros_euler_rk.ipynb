{
  "nbformat": 4,
  "nbformat_minor": 0,
  "metadata": {
    "colab": {
      "name": "Questao1.ipynb",
      "provenance": [],
      "include_colab_link": true
    },
    "kernelspec": {
      "name": "python3",
      "display_name": "Python 3"
    }
  },
  "cells": [
    {
      "cell_type": "markdown",
      "metadata": {
        "id": "view-in-github",
        "colab_type": "text"
      },
      "source": [
        "<a href=\"https://colab.research.google.com/github/felipe-gm/portfolio/blob/master/fisica_computacional/erros_euler_rk.ipynb\" target=\"_parent\"><img src=\"https://colab.research.google.com/assets/colab-badge.svg\" alt=\"Open In Colab\"/></a>"
      ]
    },
    {
      "cell_type": "code",
      "metadata": {
        "id": "YLBHiOI-E4Uw",
        "colab_type": "code",
        "colab": {}
      },
      "source": [
        "from math import sin, cos, exp, log2\n",
        "from numpy import arange\n",
        "import matplotlib.pyplot as plt"
      ],
      "execution_count": null,
      "outputs": []
    },
    {
      "cell_type": "markdown",
      "metadata": {
        "id": "Ab5bz620A2Vl",
        "colab_type": "text"
      },
      "source": [
        "# Equacao diferencial"
      ]
    },
    {
      "cell_type": "code",
      "metadata": {
        "id": "1e7H8UqgHv9H",
        "colab_type": "code",
        "colab": {}
      },
      "source": [
        "def f(x,t):\n",
        "  return -2*exp(-gamma*t)*(gamma*cos(t)+sin(t))"
      ],
      "execution_count": null,
      "outputs": []
    },
    {
      "cell_type": "markdown",
      "metadata": {
        "id": "2hIYxJ1rBT8G",
        "colab_type": "text"
      },
      "source": [
        "# Solucao exata da equacao diferencial"
      ]
    },
    {
      "cell_type": "code",
      "metadata": {
        "id": "FmP9urF_yOb9",
        "colab_type": "code",
        "colab": {}
      },
      "source": [
        "def x_exato(t,gama,x0=0): return x0-2+2*exp(-gamma*t)*cos(t)"
      ],
      "execution_count": null,
      "outputs": []
    },
    {
      "cell_type": "markdown",
      "metadata": {
        "id": "7YMBcMSEBmPa",
        "colab_type": "text"
      },
      "source": [
        "# Integracao numerica e calculo de erros"
      ]
    },
    {
      "cell_type": "code",
      "metadata": {
        "id": "Kd2dCotpZb2E",
        "colab_type": "code",
        "colab": {}
      },
      "source": [
        "def main(gamma,N):\n",
        "  \"\"\"Integra numericamente a equação diferencial\n",
        "    dx/dt=−2exp(−γt)(γcost+sent),\n",
        "  no intervalo entre t=0 e t=10, utilizando tanto o método de Euler quanto\n",
        "  o metodo de Runge-Kutta de segunda ordem. Utilizando como condicao \n",
        "  inicial x(0)=0. Calcula o erro medio associado ao calculo.\n",
        "  \"\"\"\n",
        "  a = .0\n",
        "  b = 10.\n",
        "  h = (b-a)/N\n",
        "\n",
        "  t_euler = arange(a,b,h)\n",
        "  x_euler = []\n",
        "  x = .0\n",
        "  for t in t_euler:\n",
        "    x_euler.append(x)\n",
        "    x += h*f(x,t)\n",
        "\n",
        "  t_rk2 = arange(a,b,h)\n",
        "  x_rk2 = []\n",
        "  x = .0\n",
        "  for t in t_rk2:\n",
        "    x_rk2.append(x)\n",
        "    k1 = h*f(x,t)\n",
        "    k2 = h*f(x+0.5*k1,t+0.5*h)\n",
        "    x += k2\n",
        "\n",
        "  erro_euler = ((1/N)*sum([(x_euler[n]-x_exato(n*h,gamma))**2 for n in range(N)]))**(1/2)\n",
        "  erro_rk2 = ((1/N)*sum([(x_rk2[n]-x_exato(n*h,gamma))**2 for n in range(N)]))**(1/2)\n",
        "\n",
        "  return erro_euler, erro_rk2"
      ],
      "execution_count": null,
      "outputs": []
    },
    {
      "cell_type": "markdown",
      "metadata": {
        "id": "ag_RZpX1B0Ha",
        "colab_type": "text"
      },
      "source": [
        "# Teste gamma = 1"
      ]
    },
    {
      "cell_type": "code",
      "metadata": {
        "id": "_v9QpfBygHNP",
        "colab_type": "code",
        "colab": {}
      },
      "source": [
        "gamma = 1"
      ],
      "execution_count": null,
      "outputs": []
    },
    {
      "cell_type": "markdown",
      "metadata": {
        "id": "Jr_JfUASB9bt",
        "colab_type": "text"
      },
      "source": [
        "## Listas de erros"
      ]
    },
    {
      "cell_type": "code",
      "metadata": {
        "id": "NR9Q7ZT9KUz0",
        "colab_type": "code",
        "colab": {}
      },
      "source": [
        "exercise_set = [8,16,32,64,128,256,512,1024]\n",
        "error_lists = {'euler':[], 'rk2':[]}\n",
        "for N in exercise_set:\n",
        "  error_euler, error_rk2 = main(gamma,N)\n",
        "  error_lists['euler'].append(error_euler)\n",
        "  error_lists['rk2'].append(error_rk2)"
      ],
      "execution_count": null,
      "outputs": []
    },
    {
      "cell_type": "markdown",
      "metadata": {
        "id": "Sv86rsuFCS4S",
        "colab_type": "text"
      },
      "source": [
        "## Plot log-log"
      ]
    },
    {
      "cell_type": "code",
      "metadata": {
        "id": "cM9aObDRP7dP",
        "colab_type": "code",
        "colab": {
          "base_uri": "https://localhost:8080/",
          "height": 279
        },
        "outputId": "38a64417-29f9-4de9-c6ff-997cf83b1c65"
      },
      "source": [
        "log_N = [log2(N) for N in exercise_set]\n",
        "plt.plot(log_N, [log2(err) for err in error_lists['euler']], label='euler')\n",
        "plt.plot(log_N, [log2(err) for err in error_lists['rk2']], label='rk2')\n",
        "plt.xlabel(\"log(erro)\")\n",
        "plt.ylabel(\"log(N)\")\n",
        "plt.legend()\n",
        "plt.show()"
      ],
      "execution_count": null,
      "outputs": [
        {
          "output_type": "display_data",
          "data": {
            "image/png": "[encoded data removed]",
            "text/plain": [
              "<Figure size 432x288 with 1 Axes>"
            ]
          },
          "metadata": {
            "tags": []
          }
        }
      ]
    },
    {
      "cell_type": "markdown",
      "metadata": {
        "colab_type": "text",
        "id": "quen_IoZDjqm"
      },
      "source": [
        "# Teste gamma = 0"
      ]
    },
    {
      "cell_type": "code",
      "metadata": {
        "colab_type": "code",
        "id": "S_HLgcPe22oD",
        "colab": {}
      },
      "source": [
        "gamma = 0"
      ],
      "execution_count": null,
      "outputs": []
    },
    {
      "cell_type": "markdown",
      "metadata": {
        "colab_type": "text",
        "id": "rdLXtsMFDnfH"
      },
      "source": [
        "## Listas de erros"
      ]
    },
    {
      "cell_type": "code",
      "metadata": {
        "colab_type": "code",
        "id": "M325eG9f25xl",
        "colab": {}
      },
      "source": [
        "exercise_set = [8,16,32,64,128,256,512,1024]\n",
        "error_lists = {'euler':[], 'rk2':[]}\n",
        "for N in exercise_set:\n",
        "  error_euler, error_rk2 = main(gamma,N)\n",
        "  error_lists['euler'].append(error_euler)\n",
        "  error_lists['rk2'].append(error_rk2)"
      ],
      "execution_count": null,
      "outputs": []
    },
    {
      "cell_type": "markdown",
      "metadata": {
        "colab_type": "text",
        "id": "xx0RSLNoDsCG"
      },
      "source": [
        "## Plot log-log"
      ]
    },
    {
      "cell_type": "code",
      "metadata": {
        "id": "EMXHXcmD2rSN",
        "colab_type": "code",
        "colab": {
          "base_uri": "https://localhost:8080/",
          "height": 279
        },
        "outputId": "6f01b563-3923-4417-ce37-3b3597167c2f"
      },
      "source": [
        "log_N = [log2(N) for N in exercise_set]\n",
        "plt.plot(log_N, [log2(err) for err in error_lists['euler']], label='euler')\n",
        "plt.plot(log_N, [log2(err) for err in error_lists['rk2']], label='rk2')\n",
        "plt.xlabel(\"log(erro)\")\n",
        "plt.ylabel(\"log(N)\")\n",
        "plt.legend()\n",
        "plt.show()"
      ],
      "execution_count": null,
      "outputs": [
        {
          "output_type": "display_data",
          "data": {
            "image/png": "[encoded data removed]",
            "text/plain": [
              "<Figure size 432x288 with 1 Axes>"
            ]
          },
          "metadata": {
            "tags": []
          }
        }
      ]
    },
    {
      "cell_type": "markdown",
      "metadata": {
        "id": "DTCl7MobHjdR",
        "colab_type": "text"
      },
      "source": [
        "# Os valores do expoente alpha dependem de gamma?\n",
        "\n",
        "Uma estimativa visual dos graficos log-log acusam que o valor de alpha nao\n",
        "\n",
        "depende do parametro gamma, mas apenas do metodo de integracao. "
      ]
    }
  ]
}